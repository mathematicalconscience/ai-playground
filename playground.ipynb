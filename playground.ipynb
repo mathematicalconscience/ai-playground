{
 "cells": [
  {
   "cell_type": "code",
   "execution_count": 2,
   "id": "83b15d64-1e92-40f0-8e29-fc9d80c3903b",
   "metadata": {},
   "outputs": [
    {
     "data": {
      "text/plain": [
       "2"
      ]
     },
     "execution_count": 2,
     "metadata": {},
     "output_type": "execute_result"
    }
   ],
   "source": [
    "1+1"
   ]
  },
  {
   "cell_type": "code",
   "execution_count": 3,
   "id": "fd11b554-9d30-414c-9b8d-17ffcdc8e7f7",
   "metadata": {},
   "outputs": [],
   "source": [
    "import torch"
   ]
  },
  {
   "cell_type": "code",
   "execution_count": 4,
   "id": "cfd13242-d89c-4e3b-b910-3690dead310a",
   "metadata": {},
   "outputs": [
    {
     "data": {
      "text/plain": [
       "tensor(1)"
      ]
     },
     "execution_count": 4,
     "metadata": {},
     "output_type": "execute_result"
    }
   ],
   "source": [
    "torch.tensor(1)"
   ]
  },
  {
   "cell_type": "code",
   "execution_count": 5,
   "id": "f05ab90b-4081-4bde-9c2c-99570ad7f79f",
   "metadata": {},
   "outputs": [
    {
     "name": "stdout",
     "output_type": "stream",
     "text": [
      "tensor([[6.2253e-01, 5.1576e-04, 1.3518e-01],\n",
      "        [9.0427e-01, 5.9897e-01, 7.8571e-01],\n",
      "        [3.8510e-01, 9.1358e-01, 2.4025e-01],\n",
      "        [3.8124e-02, 8.3924e-01, 7.5242e-01],\n",
      "        [5.9563e-01, 1.8527e-01, 9.2749e-01]])\n"
     ]
    }
   ],
   "source": [
    "x = torch.rand(5, 3)\n",
    "print(x)"
   ]
  },
  {
   "cell_type": "code",
   "execution_count": 6,
   "id": "5e0f4459-c10d-42e5-a4f8-493aa9e300dc",
   "metadata": {},
   "outputs": [
    {
     "name": "stdout",
     "output_type": "stream",
     "text": [
      "2.0.1\n"
     ]
    }
   ],
   "source": [
    "print(torch.__version__)"
   ]
  },
  {
   "cell_type": "markdown",
   "id": "1bc3a747-a0ab-449e-a460-34824bcc3878",
   "metadata": {},
   "source": [
    "# this is supposed to be markdown"
   ]
  },
  {
   "cell_type": "code",
   "execution_count": 9,
   "id": "7380d4da-24cb-4b0b-9025-740440215c5b",
   "metadata": {},
   "outputs": [
    {
     "data": {
      "text/plain": [
       "tensor(2)"
      ]
     },
     "execution_count": 9,
     "metadata": {},
     "output_type": "execute_result"
    }
   ],
   "source": [
    "torch.tensor(2)"
   ]
  },
  {
   "cell_type": "code",
   "execution_count": 10,
   "id": "c3bcaf0b-f17f-4caa-91de-121d294f236c",
   "metadata": {},
   "outputs": [],
   "source": [
    "from numpy import *"
   ]
  },
  {
   "cell_type": "code",
   "execution_count": null,
   "id": "5c180be1-59d5-4eaa-9d19-3eb4e8a73418",
   "metadata": {},
   "outputs": [],
   "source": []
  }
 ],
 "metadata": {
  "kernelspec": {
   "display_name": "Python 3 (ipykernel)",
   "language": "python",
   "name": "python3"
  },
  "language_info": {
   "codemirror_mode": {
    "name": "ipython",
    "version": 3
   },
   "file_extension": ".py",
   "mimetype": "text/x-python",
   "name": "python",
   "nbconvert_exporter": "python",
   "pygments_lexer": "ipython3",
   "version": "3.10.12"
  }
 },
 "nbformat": 4,
 "nbformat_minor": 5
}
